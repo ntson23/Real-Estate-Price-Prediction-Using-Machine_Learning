{
 "cells": [
  {
   "cell_type": "code",
   "execution_count": 31,
   "id": "9a36f030",
   "metadata": {},
   "outputs": [],
   "source": [
    "from selenium import webdriver\n",
    "from selenium.webdriver.common.keys import Keys\n",
    "from selenium.webdriver.common.by import By\n",
    "from time import sleep\n",
    "from bs4 import BeautifulSoup\n",
    "import pandas as pd\n",
    "import numpy as np"
   ]
  },
  {
   "cell_type": "code",
   "execution_count": 32,
   "id": "20ecb4a2",
   "metadata": {},
   "outputs": [],
   "source": [
    "import requests\n",
    "from selenium.webdriver.chrome.options import Options\n",
    "from fake_useragent import UserAgent"
   ]
  },
  {
   "cell_type": "code",
   "execution_count": 33,
   "id": "a172b7e2",
   "metadata": {},
   "outputs": [],
   "source": [
    "import undetected_chromedriver as uc\n",
    "from selenium.webdriver.common.action_chains import ActionChains\n",
    "from selenium.webdriver.support.ui import WebDriverWait\n",
    "from selenium.webdriver.support import expected_conditions as EC"
   ]
  },
  {
   "cell_type": "code",
   "execution_count": 34,
   "id": "7c9cb679",
   "metadata": {},
   "outputs": [],
   "source": [
    "from concurrent.futures import ThreadPoolExecutor\n",
    "from multiprocessing import Pool"
   ]
  },
  {
   "cell_type": "markdown",
   "id": "e0d98156",
   "metadata": {},
   "source": [
    "THIẾT LẬP CHỐNG CHẶN BOT CỦA WEBSITE"
   ]
  },
  {
   "cell_type": "code",
   "execution_count": 35,
   "id": "28ab08cd",
   "metadata": {},
   "outputs": [],
   "source": [
    "options = uc.ChromeOptions()\n",
    "options.add_argument(\"--no-sandbox\")\n",
    "options.add_argument(\"--disable-dev-shm-usage\")"
   ]
  },
  {
   "cell_type": "markdown",
   "id": "11a5c6bd",
   "metadata": {},
   "source": [
    "ĐỌC FILE CSV ĐỂ LẤY RA CÁC URL BÀI VIẾT"
   ]
  },
  {
   "cell_type": "code",
   "execution_count": null,
   "id": "be8b52ad",
   "metadata": {},
   "outputs": [],
   "source": [
    "df = pd.read_csv('../Detail/thong_tin_bds_thang_6_201_300_2.csv')\n",
    "urls = df['URL'].tolist()"
   ]
  },
  {
   "cell_type": "markdown",
   "id": "3ad70296",
   "metadata": {},
   "source": [
    "XỬ LÝ LẤY PAGE_SOURCE CỦA POST "
   ]
  },
  {
   "cell_type": "markdown",
   "id": "2cb2a0f1",
   "metadata": {},
   "source": [
    "SELLER INFOMATION"
   ]
  },
  {
   "cell_type": "code",
   "execution_count": 37,
   "id": "0a5ec9d1",
   "metadata": {},
   "outputs": [],
   "source": [
    "def Sales_Info(page_source):\n",
    "    seller_info = page_source.find('div', class_ = 'SellerInfo_sellerWrapper__r4S9i')\n",
    "\n",
    "    seller_name = seller_info.find('div', class_ = 'SellerInfo_nameDiv__rWqQB').text.strip()\n",
    "    seller_role = seller_info.find('div', class_ = 'd4deiyo').text.strip()\n",
    "    \n",
    "    return seller_name, seller_role"
   ]
  },
  {
   "cell_type": "markdown",
   "id": "0922f8f8",
   "metadata": {},
   "source": [
    "THÔNG TIN CHUNG VỀ BẤT ĐỘNG SẢN"
   ]
  },
  {
   "cell_type": "code",
   "execution_count": 38,
   "id": "c1ba7e5e",
   "metadata": {},
   "outputs": [],
   "source": [
    "def RealEstate_Info(page_source, driver):\n",
    "    RealEstate_Info = page_source.find('div', class_ = 'cd9gm5n')\n",
    "    \n",
    "    details = driver.find_elements(By.CLASS_NAME, 'brnpcl3')\n",
    "\n",
    "    items = driver.find_elements(By.CSS_SELECTOR, 'div.i1qen30x.r9vw5if')\n",
    "\n",
    "    phong_ngu = 'Không rõ'\n",
    "    huong = 'Không rõ'\n",
    "    loai_nha = 'Không rõ'\n",
    "    for item in items:\n",
    "        try:\n",
    "            lines = item.text.strip().split('\\n')  # Tách từng dòng riêng biệt\n",
    "            for line in lines:\n",
    "                line = line.strip()\n",
    "                if 'PN' in line:\n",
    "                    phong_ngu = line  # Không cần lấy lại từ <span>, vì line đã là nội dung chuẩn\n",
    "                elif 'Hướng' in line:\n",
    "                    huong = line\n",
    "                elif 'Nhà' in line or 'Chung cư' in line or 'Căn hộ' in line or 'Penhouse' in line or 'Đất' in line or 'Tập thể' in line:\n",
    "                    loai_nha = line\n",
    "        except Exception as e:\n",
    "            continue\n",
    "\n",
    "\n",
    "\n",
    "    RE_Money = RealEstate_Info.find('b', class_ = 'pyhk1dv').text.strip()\n",
    "    RE_Money_Per_SqM = details[0].text.strip()  # Giá tiền trên m2\n",
    "    RE_Area = details[1].text.strip()   # Diện tích đất\n",
    "\n",
    "    RE_Location = RealEstate_Info.find('span', class_ = 'bwq0cbs flex-1').text.strip()\n",
    "    \n",
    "    return phong_ngu, huong, loai_nha, RE_Money, RE_Money_Per_SqM, RE_Area, RE_Location\n"
   ]
  },
  {
   "cell_type": "markdown",
   "id": "46591055",
   "metadata": {},
   "source": [
    "THÔNG TIN CHI TIẾT CỦA BẤT ĐỘNG SẢN"
   ]
  },
  {
   "cell_type": "code",
   "execution_count": 39,
   "id": "07659c4c",
   "metadata": {},
   "outputs": [],
   "source": [
    "def RealEstate_Detail(driver):\n",
    "    # Lấy tất cả các thẻ div thông tin\n",
    "    items = driver.find_elements(By.CSS_SELECTOR, \"div.col-xs-6.abzctes\")\n",
    "\n",
    "    giay_to_phap_ly = \"Không rõ\"\n",
    "    so_phong_ve_sinh = \"Không rõ\"\n",
    "    tinh_trang_noi_that = \"Không rõ\"\n",
    "    so_tang = \"Không rõ\"\n",
    "\n",
    "    for item in items:\n",
    "        try:\n",
    "            label = item.text.strip()\n",
    "            if \"Giấy tờ pháp lý\" in label:\n",
    "                # Tìm strong hoặc thẻ chứa giá trị trong cùng item\n",
    "                value_el = item.find_element(By.TAG_NAME, \"strong\")\n",
    "                giay_to_phap_ly = value_el.text.strip()\n",
    "            elif \"Số phòng vệ sinh\" in label:\n",
    "                value_el = item.find_element(By.TAG_NAME, \"strong\")\n",
    "                so_phong_ve_sinh = value_el.text.strip()\n",
    "            elif \"Tình trạng nội thất\" in label:\n",
    "                value_el = item.find_element(By.TAG_NAME, \"strong\")\n",
    "                tinh_trang_noi_that = value_el.text.strip()\n",
    "            elif \"Tổng số tầng\" in label:\n",
    "                value_el = item.find_element(By.TAG_NAME, \"strong\")\n",
    "                so_tang = value_el.text.strip()           \n",
    "        except:\n",
    "            continue\n",
    "\n",
    "    return giay_to_phap_ly, so_phong_ve_sinh, tinh_trang_noi_that, so_tang\n"
   ]
  },
  {
   "cell_type": "markdown",
   "id": "66aa35dd",
   "metadata": {},
   "source": [
    "- HÀM XỬ LÝ THAO TÁC NHẤN VÀO GIỮA MÀN HÌNH CHO LẦN ĐẦU\n",
    "- CUỘN XUỐNG VÀ NHẤN VÀO NÚT XEM THÊM \n",
    "- LẤY CÁC THÔNG TIN CHI TIẾT"
   ]
  },
  {
   "cell_type": "code",
   "execution_count": 40,
   "id": "3ef5935d",
   "metadata": {},
   "outputs": [],
   "source": [
    "def process_url(driver, url):\n",
    "    print(f\"\\nĐang xử lý: {url}\")\n",
    "    driver.get(url)\n",
    "\n",
    "    try:\n",
    "        WebDriverWait(driver, 10).until(\n",
    "        EC.presence_of_element_located((By.TAG_NAME, \"body\"))\n",
    "    )\n",
    "    except:\n",
    "        print(f\"Không load được trang: {url}\")\n",
    "        return None\n",
    "\n",
    "    try:\n",
    "        actions = ActionChains(driver)\n",
    "        actions.move_by_offset(10, 10).click().perform()\n",
    "        sleep(2)\n",
    "    except Exception as e:\n",
    "        print(f\"Không thể click offset: {e}\")\n",
    "\n",
    "    # Tìm tất cả các nút \"Xem thêm\" theo điều kiện\n",
    "    buttons = driver.find_elements(By.XPATH, \"//button[@data-clad='Button' and contains(text(), 'Xem')]\")\n",
    "\n",
    "    if buttons:\n",
    "        more_button = buttons[0]\n",
    "\n",
    "        try:\n",
    "            # Cuộn tới nút để đảm bảo hiển thị trên màn hình\n",
    "            driver.execute_script(\"arguments[0].scrollIntoView({block: 'center'});\", more_button)\n",
    "\n",
    "            # Đợi nút có thể click và thực hiện click\n",
    "            WebDriverWait(driver, 15).until(EC.element_to_be_clickable(more_button))\n",
    "            more_button.click()\n",
    "\n",
    "        except Exception as e:\n",
    "            print(\"Không click được nút 'Xem thêm':\", e)\n",
    "\n",
    "    else:\n",
    "        print(\"Không có nút 'Xem thêm' trong trang này.\")\n",
    "\n",
    "    # Chỉ lấy HTML sau khi dữ liệu đã load xong\n",
    "    soup = BeautifulSoup(driver.page_source, 'html.parser')\n",
    "\n",
    "    try:\n",
    "        seller_name, seller_role = Sales_Info(soup)\n",
    "    except:\n",
    "        seller_name, seller_role = \"Không rõ\", \"Không rõ\"\n",
    "\n",
    "    try:\n",
    "        phong_ngu, huong, loai_nha, RE_Money, RE_Money_Per_SqM, RE_Area, RE_Location = RealEstate_Info(soup, driver)\n",
    "    except:\n",
    "        phong_ngu = huong = loai_nha = RE_Money = RE_Money_Per_SqM = RE_Area = RE_Location = \"Không rõ\"\n",
    "\n",
    "    try:\n",
    "        giay_to_phap_ly, so_phong_ve_sinh, tinh_trang_noi_that, so_tang = RealEstate_Detail(driver)\n",
    "    except:\n",
    "        giay_to_phap_ly = so_phong_ve_sinh = tinh_trang_noi_that = so_tang = \"Không rõ\"\n",
    "\n",
    "    return [\n",
    "        url,\n",
    "        seller_name, seller_role,\n",
    "        phong_ngu, huong, loai_nha,\n",
    "        RE_Money, RE_Money_Per_SqM, RE_Area, RE_Location,\n",
    "        giay_to_phap_ly, so_phong_ve_sinh, tinh_trang_noi_that, so_tang\n",
    "    ]\n"
   ]
  },
  {
   "cell_type": "code",
   "execution_count": 41,
   "id": "afa1aa5f",
   "metadata": {},
   "outputs": [],
   "source": [
    "def scrape_url_wrapper(args):\n",
    "\n",
    "    url, index = args\n",
    "\n",
    "    options = uc.ChromeOptions()\n",
    "    #options.add_argument(\"--headless=new\")\n",
    "    options.add_argument(\"--disable-gpu\")\n",
    "\n",
    "    driver = uc.Chrome(options=options)\n",
    "    \n",
    "    try:\n",
    "        result = process_url(driver, url)\n",
    "    except Exception as e:\n",
    "        print(f\"Lỗi xử lý {url}: {e}\")\n",
    "        result = [url] + [\"Lỗi\"] * 13\n",
    "    finally:\n",
    "        driver.quit()\n",
    "\n",
    "    return result"
   ]
  },
  {
   "cell_type": "code",
   "execution_count": null,
   "id": "03c41128",
   "metadata": {},
   "outputs": [],
   "source": [
    "from concurrent.futures import ThreadPoolExecutor, as_completed\n",
    "import threading\n",
    "\n",
    "lock = threading.Lock()\n",
    "\n",
    "def scrape_threadsafe(args):\n",
    "    # lock không bắt buộc, nhưng có thể dùng nếu bị race condition\n",
    "    # với thao tác driver global hoặc ghi log\n",
    "    # với undetected_chromedriver bạn có thể bỏ lock nếu mỗi thread có 1 driver riêng\n",
    "    return scrape_url_wrapper(args)\n",
    "\n",
    "if __name__ == \"__main__\":\n",
    "    url_args = [(url, i) for i, url in enumerate(urls)]\n",
    "\n",
    "    print(\"Bắt đầu chạy\")\n",
    "\n",
    "    results = []\n",
    "    max_threads = 5 \n",
    "\n",
    "    with ThreadPoolExecutor(max_workers=max_threads) as executor:\n",
    "        futures = [executor.submit(scrape_threadsafe, arg) for arg in url_args]\n",
    "\n",
    "        for i, future in enumerate(as_completed(futures)):\n",
    "            try:\n",
    "                result = future.result()\n",
    "                results.append(result)\n",
    "                print(f\"Hoàn thành {i + 1}/{len(url_args)}\")\n",
    "            except Exception as e:\n",
    "                print(f\"Lỗi thread {i + 1}: {e}\")\n",
    "                results.append([\"Lỗi\"] * 14)\n",
    "\n",
    "    print(\"✅ Hoàn tất đa luồng.\")\n"
   ]
  },
  {
   "cell_type": "markdown",
   "id": "6fef9990",
   "metadata": {},
   "source": [
    "VÒNG FOR CHẠY CÁC HÀM BÊN TRÊN"
   ]
  },
  {
   "cell_type": "code",
   "execution_count": null,
   "id": "dc655aa7",
   "metadata": {},
   "outputs": [
    {
     "name": "stdout",
     "output_type": "stream",
     "text": [
      "Đã lưu dữ liệu vào file thong_tin_bds_thang_6_301_400_2_2\n"
     ]
    }
   ],
   "source": [
    "# Lưu dữ liệu ra file CSV\n",
    "columns = [\n",
    "    \"URL\",\n",
    "    \"Người bán\", \"Loại người bán\",\n",
    "    \"Số phòng ngủ\", \"Hướng\", \"Kiểu nhà\",\n",
    "    \"Giá\", \"Giá mỗi m2\", \"Diện tích\", \"Địa chỉ\",\n",
    "    \"Giấy tờ pháp lý\", \"Số phòng vệ sinh\", \"Tình trạng nội thất\", \"Số tầng\"\n",
    "]\n",
    "df_output = pd.DataFrame(results, columns=columns)\n",
    "df_output.to_csv('../Detail/thong_tin_bds_thang_6_201_300_2_2.csv', index=False, encoding='utf-8-sig')\n",
    "\n",
    "print(\"Đã lưu dữ liệu vào file thong_tin_bds_thang_6_201_300_2_2\")"
   ]
  },
  {
   "cell_type": "markdown",
   "id": "f9f476a9",
   "metadata": {},
   "source": [
    "PHẦN CHƯA DÙNG TỚI"
   ]
  },
  {
   "cell_type": "code",
   "execution_count": 44,
   "id": "8114cd92",
   "metadata": {},
   "outputs": [],
   "source": [
    "# driver = uc.Chrome(options=options)\n",
    "# actions = ActionChains(driver)\n",
    "\n",
    "# results = []\n",
    "\n",
    "# for i, url in enumerate(urls):\n",
    "#     results.append(process_url(driver, url, first_time=(i == 0)))"
   ]
  },
  {
   "cell_type": "code",
   "execution_count": 45,
   "id": "b790e3cb",
   "metadata": {},
   "outputs": [],
   "source": [
    "# driver = uc.Chrome(options=options)\n",
    "# actions = ActionChains(driver)\n",
    "# sleep(1)\n",
    "\n",
    "# results = []\n",
    "\n",
    "# for i, url in enumerate(urls):\n",
    "#     print(f\"\\nĐang xử lý: {url}\")\n",
    "#     driver.get(url)\n",
    "#     sleep(2)\n",
    "\n",
    "#     # Click vào vị trí (0, 0) hoặc giữa màn hình\n",
    "#     if i == 0:\n",
    "#         try:\n",
    "#             actions.move_by_offset(10, 10).click().perform()\n",
    "#             sleep(3)\n",
    "#         except Exception as e:\n",
    "#             print(f\"Không thể click offset: {e}\")\n",
    "\n",
    "#     # Click vào nút \"Xem thêm\" để tải thêm nội dung và chờ 5 giây để đầy đủ nội dung\n",
    "#     try:\n",
    "#         more_field = driver.find_element(By.XPATH, '/html/body/div[1]/div/div[4]/div[1]/div/div[4]/div/div[2]/div/div[2]/div[2]/button')\n",
    "#         driver.execute_script(\"arguments[0].scrollIntoView({block: 'center'});\", more_field)\n",
    "#         sleep(2)\n",
    "#         more_field.click()\n",
    "#         sleep(1)\n",
    "#     except Exception as e:\n",
    "#         print(f\"Không tìm thấy hoặc không click được nút 'Xem thêm': {e}\")\n",
    "\n",
    "#     page_source = BeautifulSoup(driver.page_source, 'html.parser')\n",
    "\n",
    "#     try:\n",
    "#         seller_name, seller_role = Sales_Info(page_source)\n",
    "#     except:\n",
    "#         seller_name, seller_role = \"Không rõ\", \"Không rõ\"\n",
    "\n",
    "#     try:\n",
    "#         phong_ngu, huong, loai_nha, RE_Money, RE_Money_Per_SqM, RE_Area, RE_Location = RealEstate_Info(page_source, driver)\n",
    "#     except:\n",
    "#         phong_ngu = huong = loai_nha = RE_Money = RE_Money_Per_SqM = RE_Area = RE_Location = \"Không rõ\"\n",
    "\n",
    "#     try:\n",
    "#         giay_to_phap_ly, so_phong_ve_sinh, tinh_trang_noi_that, so_tang = RealEstate_Detail(driver)\n",
    "#     except:\n",
    "#         giay_to_phap_ly = so_phong_ve_sinh = tinh_trang_noi_that = so_tang = \"Không rõ\"\n",
    "\n",
    "#     # Thêm dữ liệu vào list\n",
    "#     results.append([\n",
    "#         url,\n",
    "#         seller_name, seller_role,\n",
    "#         phong_ngu, huong, loai_nha,\n",
    "#         RE_Money, RE_Money_Per_SqM, RE_Area, RE_Location,\n",
    "#         giay_to_phap_ly, so_phong_ve_sinh, tinh_trang_noi_that, so_tang\n",
    "#     ])"
   ]
  }
 ],
 "metadata": {
  "kernelspec": {
   "display_name": "Python 3",
   "language": "python",
   "name": "python3"
  },
  "language_info": {
   "codemirror_mode": {
    "name": "ipython",
    "version": 3
   },
   "file_extension": ".py",
   "mimetype": "text/x-python",
   "name": "python",
   "nbconvert_exporter": "python",
   "pygments_lexer": "ipython3",
   "version": "3.13.1"
  }
 },
 "nbformat": 4,
 "nbformat_minor": 5
}
