{
 "cells": [
  {
   "cell_type": "code",
   "execution_count": 1,
   "id": "36928620",
   "metadata": {},
   "outputs": [],
   "source": [
    "from selenium import webdriver\n",
    "from selenium.webdriver.common.keys import Keys\n",
    "from selenium.webdriver.common.by import By\n",
    "from time import sleep\n",
    "from bs4 import BeautifulSoup"
   ]
  },
  {
   "cell_type": "code",
   "execution_count": 40,
   "id": "bb177347",
   "metadata": {},
   "outputs": [],
   "source": [
    "# Step 1: Login to Facebook\n",
    "\n",
    "driver = webdriver.Chrome() \n",
    "url = 'https://www.facebook.com'\n",
    "driver.get(url)\n",
    "sleep(5)\n",
    "\n",
    "with open('login_credential.txt', 'r') as credential:\n",
    "    lines = credential.readlines()\n",
    "    username = lines[0].strip()  # Loại bỏ các ký tự dư thừa như \\n\n",
    "    password = lines[1].strip()\n",
    "\n",
    "email_field = driver.find_element(By.ID, 'email')\n",
    "email_field.send_keys(username)\n",
    "sleep(3)\n",
    "\n",
    "\n",
    "pass_field = driver.find_element(By.ID, 'pass')\n",
    "pass_field.send_keys(password)\n",
    "sleep(5)\n",
    "\n",
    "\n",
    "login_field = driver.find_element(By.XPATH, '/html/body/div[1]/div[1]/div[1]/div/div/div/div[2]/div/div[1]/form/div[2]/button')\n",
    "login_field.click()\n",
    "\n",
    "sleep(5)\n"
   ]
  },
  {
   "cell_type": "code",
   "execution_count": 41,
   "id": "ad79d6eb",
   "metadata": {},
   "outputs": [],
   "source": [
    "# Step 2: Find people\n",
    "\n",
    "search_field = driver.find_element(By.XPATH, '/html/body/div[1]/div/div[1]/div/div[2]/div[3]/div/div/div/div/div/label/input')\n",
    "\n",
    "search_query = input('Nhập tên người cần tìm: ')\n",
    "\n",
    "search_field.send_keys(search_query)\n",
    "sleep(3)\n",
    "\n",
    "search_field.send_keys(Keys.RETURN)\n",
    "sleep(5)\n",
    "\n",
    "people_field = driver.find_element(By.XPATH, \"//span[text()='People']\")\n",
    "people_field.click()\n",
    "sleep(5)"
   ]
  }
 ],
 "metadata": {
  "kernelspec": {
   "display_name": "Python 3",
   "language": "python",
   "name": "python3"
  },
  "language_info": {
   "codemirror_mode": {
    "name": "ipython",
    "version": 3
   },
   "file_extension": ".py",
   "mimetype": "text/x-python",
   "name": "python",
   "nbconvert_exporter": "python",
   "pygments_lexer": "ipython3",
   "version": "3.13.1"
  }
 },
 "nbformat": 4,
 "nbformat_minor": 5
}
