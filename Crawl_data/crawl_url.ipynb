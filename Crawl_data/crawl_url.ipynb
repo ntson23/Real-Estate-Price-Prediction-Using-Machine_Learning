{
 "cells": [
  {
   "cell_type": "code",
   "execution_count": 1,
   "id": "e031c2cd",
   "metadata": {},
   "outputs": [],
   "source": [
    "from selenium import webdriver\n",
    "from selenium.webdriver.common.keys import Keys\n",
    "from selenium.webdriver.common.by import By\n",
    "from time import sleep\n",
    "from bs4 import BeautifulSoup"
   ]
  },
  {
   "cell_type": "code",
   "execution_count": 2,
   "id": "ab65ce5a",
   "metadata": {},
   "outputs": [],
   "source": [
    "import requests\n",
    "from selenium.webdriver.chrome.options import Options\n",
    "from fake_useragent import UserAgent"
   ]
  },
  {
   "cell_type": "code",
   "execution_count": 3,
   "id": "035bca1f",
   "metadata": {},
   "outputs": [],
   "source": [
    "import pandas as pd\n",
    "import random\n",
    "import time"
   ]
  },
  {
   "cell_type": "code",
   "execution_count": 4,
   "id": "4c10d423",
   "metadata": {},
   "outputs": [],
   "source": [
    "import undetected_chromedriver as uc\n",
    "from selenium.webdriver.common.action_chains import ActionChains\n",
    "from selenium.webdriver.support.ui import WebDriverWait\n",
    "from selenium.webdriver.support import expected_conditions as EC"
   ]
  },
  {
   "cell_type": "code",
   "execution_count": 160,
   "id": "3b6bbf79",
   "metadata": {},
   "outputs": [],
   "source": [
    "# Cấu hình tùy chọn cho Chrome\n",
    "chrome_options = Options()\n",
    "ua = UserAgent()\n",
    "user_agent = ua.random\n",
    "chrome_options.add_argument(f'user-agent={user_agent}')\n",
    "chrome_options.add_argument('--disable-blink-features=AutomationControlled')\n",
    "chrome_options.add_argument('--no-sandbox')\n",
    "chrome_options.add_argument('--disable-dev-shm-usage')"
   ]
  },
  {
   "cell_type": "code",
   "execution_count": 161,
   "id": "59e91539",
   "metadata": {},
   "outputs": [],
   "source": [
    "options = uc.ChromeOptions()\n",
    "options.add_argument(\"--no-sandbox\")\n",
    "options.add_argument(\"--disable-dev-shm-usage\")"
   ]
  },
  {
   "cell_type": "code",
   "execution_count": 162,
   "id": "2bb09863",
   "metadata": {},
   "outputs": [],
   "source": [
    "driver = uc.Chrome(options=options)\n",
    "actions = ActionChains(driver)\n",
    "sleep(1)\n",
    "\n",
    "url = 'https://www.nhatot.com/mua-ban-bat-dong-san-ha-noi'\n",
    "driver.get(url)\n",
    "time.sleep(random.uniform(2, 4))\n",
    "\n",
    "# Click vào vị trí (0, 0) hoặc giữa màn hình\n",
    "try:\n",
    "    actions.move_by_offset(10, 10).click().perform()\n",
    "    sleep(3)\n",
    "except Exception as e:\n",
    "    print(f\"Không thể click offset: {e}\")\n"
   ]
  },
  {
   "cell_type": "markdown",
   "id": "2b5d43b6",
   "metadata": {},
   "source": [
    "LẤY TẤT CÁC CÁC URL CỦA CÁC SẢN PHẨM CUẢ 1  TRANG"
   ]
  },
  {
   "cell_type": "code",
   "execution_count": 163,
   "id": "86d4710a",
   "metadata": {},
   "outputs": [],
   "source": [
    "def getURLs(page_source):    # Find all post links on the page \n",
    "    \n",
    "    posts = page_source.find_all('a', class_ = 'crd7gu7')\n",
    "\n",
    "    all_posts = []\n",
    "\n",
    "    for post in posts:\n",
    "        post_id = post.get('href')\n",
    "        post_url = 'https://www.nhatot.com' + post_id\n",
    "        if post_url not in all_posts:\n",
    "            all_posts.append(post_url)\n",
    "    return all_posts\n"
   ]
  },
  {
   "cell_type": "markdown",
   "id": "9b43981c",
   "metadata": {},
   "source": [
    "TÌM NÚT NEXT ĐỂ THỰC HIỆN CRAWL DỮ LIỆU TỪ NHỮNG TRANG SAU."
   ]
  },
  {
   "cell_type": "code",
   "execution_count": 164,
   "id": "21001994",
   "metadata": {},
   "outputs": [],
   "source": [
    "def GetURLsAllPage():\n",
    "    urls_all_page = []\n",
    "    input_page = int(input('Số trang cần lấy: '))\n",
    "\n",
    "    for page in range(input_page):\n",
    "\n",
    "        page_source = BeautifulSoup(driver.page_source)\n",
    "\n",
    "        urls_in_page = getURLs(page_source)\n",
    "        driver.execute_script('window.scrollTo(0, document.body.scrollHeight)')\n",
    "        time.sleep(random.uniform(2, 4)) \n",
    "\n",
    "        next_button = driver.find_element(By.XPATH,'//*[@id=\"__next\"]/div/div[4]/div[1]/div[3]/main/div[1]/div[6]/div/div/div[10]/button')\n",
    "        driver.execute_script(\"arguments[0].click();\", next_button)\n",
    "        time.sleep(random.uniform(2, 4))  \n",
    "\n",
    "        urls_all_page = urls_all_page + urls_in_page\n",
    "        time.sleep(random.uniform(2, 3))\n",
    "    return urls_all_page"
   ]
  },
  {
   "cell_type": "markdown",
   "id": "9ff1de28",
   "metadata": {},
   "source": [
    "TRUY CẬP VÀO TỪNG LINK URL ĐỂ LẤY RA THÔNG TIN CHI TIẾT."
   ]
  },
  {
   "cell_type": "code",
   "execution_count": 165,
   "id": "814fc37e",
   "metadata": {},
   "outputs": [],
   "source": [
    "URLs_all_page = GetURLsAllPage()    #gán hàm ra 1 biến toàn cục để tiếp tục xử lý\n",
    "time.sleep(random.uniform(2, 4))"
   ]
  },
  {
   "cell_type": "markdown",
   "id": "0e964a83",
   "metadata": {},
   "source": [
    "XUẤT RA FILE CSV CÁC URL ĐỂ XỬ LÝ TIẾP"
   ]
  },
  {
   "cell_type": "code",
   "execution_count": 166,
   "id": "bdabbd6f",
   "metadata": {},
   "outputs": [
    {
     "name": "stdout",
     "output_type": "stream",
     "text": [
      "Đã xuất danh sách URL ra file 'urls_all_page_thang_6_1_100_2.csv'\n"
     ]
    }
   ],
   "source": [
    "# Tạo DataFrame từ danh sách\n",
    "df = pd.DataFrame(URLs_all_page, columns=['URL'])\n",
    "\n",
    "# Xuất ra file CSV\n",
    "df.to_csv('urls_all_page_thang_6_1_100_2.csv', index=False)\n",
    "\n",
    "print(\"Đã xuất danh sách URL ra file 'urls_all_page_thang_6_1_100_2.csv'\")"
   ]
  }
 ],
 "metadata": {
  "kernelspec": {
   "display_name": "Python 3",
   "language": "python",
   "name": "python3"
  },
  "language_info": {
   "codemirror_mode": {
    "name": "ipython",
    "version": 3
   },
   "file_extension": ".py",
   "mimetype": "text/x-python",
   "name": "python",
   "nbconvert_exporter": "python",
   "pygments_lexer": "ipython3",
   "version": "3.13.1"
  }
 },
 "nbformat": 4,
 "nbformat_minor": 5
}
