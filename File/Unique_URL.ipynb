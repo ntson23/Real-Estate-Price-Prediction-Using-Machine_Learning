{
 "cells": [
  {
   "cell_type": "markdown",
   "id": "c37828c0",
   "metadata": {},
   "source": [
    "XÓA CÁC URL TRÙNG NHAU TRONG 1 FILE"
   ]
  },
  {
   "cell_type": "code",
   "execution_count": 9,
   "id": "f367e0fb",
   "metadata": {},
   "outputs": [],
   "source": [
    "import pandas as pd\n",
    "import numpy as np"
   ]
  },
  {
   "cell_type": "code",
   "execution_count": 10,
   "id": "2ceea84e",
   "metadata": {},
   "outputs": [],
   "source": [
    "df = pd.read_csv('../Detail/thong_tin_bds_thang_6_201_300_2.csv')"
   ]
  },
  {
   "cell_type": "code",
   "execution_count": 14,
   "id": "5af4c932",
   "metadata": {},
   "outputs": [
    {
     "name": "stdout",
     "output_type": "stream",
     "text": [
      "<class 'pandas.core.frame.DataFrame'>\n",
      "Index: 796 entries, 0 to 798\n",
      "Data columns (total 14 columns):\n",
      " #   Column               Non-Null Count  Dtype \n",
      "---  ------               --------------  ----- \n",
      " 0   URL                  796 non-null    object\n",
      " 1   Người bán            796 non-null    object\n",
      " 2   Loại người bán       796 non-null    object\n",
      " 3   Số phòng ngủ         796 non-null    object\n",
      " 4   Hướng                796 non-null    object\n",
      " 5   Kiểu nhà             796 non-null    object\n",
      " 6   Giá                  796 non-null    object\n",
      " 7   Giá mỗi m2           796 non-null    object\n",
      " 8   Diện tích            796 non-null    object\n",
      " 9   Địa chỉ              796 non-null    object\n",
      " 10  Giấy tờ pháp lý      796 non-null    object\n",
      " 11  Số phòng vệ sinh     796 non-null    object\n",
      " 12  Tình trạng nội thất  796 non-null    object\n",
      " 13  Số tầng              796 non-null    object\n",
      "dtypes: object(14)\n",
      "memory usage: 93.3+ KB\n"
     ]
    }
   ],
   "source": [
    "df.info()"
   ]
  },
  {
   "cell_type": "code",
   "execution_count": 12,
   "id": "04d6f157",
   "metadata": {},
   "outputs": [],
   "source": [
    "df.drop_duplicates(subset=['URL'], inplace=True)"
   ]
  },
  {
   "cell_type": "code",
   "execution_count": 13,
   "id": "c686c554",
   "metadata": {},
   "outputs": [],
   "source": [
    "df.to_csv('../Detail/thong_tin_bds_thang_6_201_300_2.csv', index=False, encoding='utf-8-sig')"
   ]
  }
 ],
 "metadata": {
  "kernelspec": {
   "display_name": "Python 3",
   "language": "python",
   "name": "python3"
  },
  "language_info": {
   "codemirror_mode": {
    "name": "ipython",
    "version": 3
   },
   "file_extension": ".py",
   "mimetype": "text/x-python",
   "name": "python",
   "nbconvert_exporter": "python",
   "pygments_lexer": "ipython3",
   "version": "3.13.1"
  }
 },
 "nbformat": 4,
 "nbformat_minor": 5
}
