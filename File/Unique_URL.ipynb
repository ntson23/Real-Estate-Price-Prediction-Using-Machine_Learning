{
 "cells": [
  {
   "cell_type": "markdown",
   "id": "c37828c0",
   "metadata": {},
   "source": [
    "XÓA CÁC URL TRÙNG NHAU TRONG 1 FILE"
   ]
  },
  {
   "cell_type": "code",
   "execution_count": 1,
   "id": "f367e0fb",
   "metadata": {},
   "outputs": [],
   "source": [
    "import pandas as pd\n",
    "import numpy as np"
   ]
  },
  {
   "cell_type": "code",
   "execution_count": 28,
   "id": "2ceea84e",
   "metadata": {},
   "outputs": [],
   "source": [
    "df = pd.read_csv('urls_all_page_thang_6_1_100_2.csv')"
   ]
  },
  {
   "cell_type": "code",
   "execution_count": 31,
   "id": "5af4c932",
   "metadata": {},
   "outputs": [
    {
     "name": "stdout",
     "output_type": "stream",
     "text": [
      "<class 'pandas.core.frame.DataFrame'>\n",
      "Index: 1944 entries, 0 to 1994\n",
      "Data columns (total 1 columns):\n",
      " #   Column  Non-Null Count  Dtype \n",
      "---  ------  --------------  ----- \n",
      " 0   URL     1944 non-null   object\n",
      "dtypes: object(1)\n",
      "memory usage: 30.4+ KB\n"
     ]
    }
   ],
   "source": [
    "df.info()"
   ]
  },
  {
   "cell_type": "code",
   "execution_count": 30,
   "id": "04d6f157",
   "metadata": {},
   "outputs": [],
   "source": [
    "df.drop_duplicates(subset=['URL'], inplace=True)"
   ]
  },
  {
   "cell_type": "code",
   "execution_count": 32,
   "id": "c686c554",
   "metadata": {},
   "outputs": [],
   "source": [
    "df.to_csv('urls_all_page_thang_6_1_100_2.csv', index=False)"
   ]
  }
 ],
 "metadata": {
  "kernelspec": {
   "display_name": "Python 3",
   "language": "python",
   "name": "python3"
  },
  "language_info": {
   "codemirror_mode": {
    "name": "ipython",
    "version": 3
   },
   "file_extension": ".py",
   "mimetype": "text/x-python",
   "name": "python",
   "nbconvert_exporter": "python",
   "pygments_lexer": "ipython3",
   "version": "3.13.1"
  }
 },
 "nbformat": 4,
 "nbformat_minor": 5
}
