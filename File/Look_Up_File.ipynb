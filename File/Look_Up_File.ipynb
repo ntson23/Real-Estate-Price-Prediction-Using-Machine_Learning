{
 "cells": [
  {
   "cell_type": "markdown",
   "id": "a8d5de09",
   "metadata": {},
   "source": [
    "GỘP CÁC FILE CHẠY 2 LẦN VỀ 1 FILE HOÀN CHỈNH NHẤT"
   ]
  },
  {
   "cell_type": "code",
   "execution_count": 1,
   "id": "a08150e9",
   "metadata": {},
   "outputs": [],
   "source": [
    "import pandas as pd"
   ]
  },
  {
   "cell_type": "code",
   "execution_count": 4,
   "id": "0c7f07ed",
   "metadata": {},
   "outputs": [],
   "source": [
    "# Đọc 2 file Excel\n",
    "df1 = pd.read_csv('../Detail/thong_tin_bds_thang_6_201_300.csv')\n",
    "df2 = pd.read_csv('../Detail/thong_tin_bds_thang_6_201_300_2.csv')"
   ]
  },
  {
   "cell_type": "code",
   "execution_count": 5,
   "id": "79e62065",
   "metadata": {},
   "outputs": [],
   "source": [
    "# Đặt cột URL làm chỉ số (index) tạm thời để dễ thay thế\n",
    "df1.set_index('URL', inplace=True)\n",
    "df2.set_index('URL', inplace=True)\n",
    "\n",
    "# Cập nhật dữ liệu của df1 bằng df2 tại các URL trùng khớp\n",
    "df1.update(df2)\n",
    "\n",
    "# Reset lại index nếu cần giữ cột URL\n",
    "df1.reset_index(inplace=True)\n",
    "\n",
    "# Lưu kết quả ra file mới nếu muốn\n",
    "df1.to_csv('file1_updated.csv', index=False)\n"
   ]
  },
  {
   "cell_type": "code",
   "execution_count": 7,
   "id": "3aac1197",
   "metadata": {},
   "outputs": [],
   "source": [
    "# Lưu kết quả ra file mới nếu muốn\n",
    "df1.to_csv('../Detail/done_thong_tin_bds_thang_6_201_300.csv', index=False, encoding='utf-8-sig')"
   ]
  }
 ],
 "metadata": {
  "kernelspec": {
   "display_name": "Python 3",
   "language": "python",
   "name": "python3"
  },
  "language_info": {
   "codemirror_mode": {
    "name": "ipython",
    "version": 3
   },
   "file_extension": ".py",
   "mimetype": "text/x-python",
   "name": "python",
   "nbconvert_exporter": "python",
   "pygments_lexer": "ipython3",
   "version": "3.13.1"
  }
 },
 "nbformat": 4,
 "nbformat_minor": 5
}
