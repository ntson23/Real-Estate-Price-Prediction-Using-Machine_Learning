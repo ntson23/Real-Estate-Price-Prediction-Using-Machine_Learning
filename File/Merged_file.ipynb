{
 "cells": [
  {
   "cell_type": "code",
   "execution_count": 1,
   "id": "2453cd77",
   "metadata": {},
   "outputs": [],
   "source": [
    "import pandas as pd\n",
    "import numpy as np"
   ]
  },
  {
   "cell_type": "code",
   "execution_count": 2,
   "id": "d657a4d7",
   "metadata": {},
   "outputs": [],
   "source": [
    "df1 = pd.read_csv('../Data_Cleaned/thong_tin_bds_thang_6_1_200_cleaned.csv')\n",
    "df2 = pd.read_csv('../Data_Cleaned/thong_tin_bds_thang_6_201_400_cleaned.csv')"
   ]
  },
  {
   "cell_type": "code",
   "execution_count": 3,
   "id": "7f2ca238",
   "metadata": {},
   "outputs": [
    {
     "name": "stdout",
     "output_type": "stream",
     "text": [
      "<class 'pandas.core.frame.DataFrame'>\n",
      "RangeIndex: 3906 entries, 0 to 3905\n",
      "Data columns (total 17 columns):\n",
      " #   Column               Non-Null Count  Dtype  \n",
      "---  ------               --------------  -----  \n",
      " 0   URL                  3906 non-null   object \n",
      " 1   Người bán            3906 non-null   object \n",
      " 2   Loại người bán       3906 non-null   object \n",
      " 3   Số phòng ngủ         3906 non-null   object \n",
      " 4   Hướng                3906 non-null   object \n",
      " 5   Kiểu nhà             3906 non-null   object \n",
      " 6   Giá                  3906 non-null   float64\n",
      " 7   Giá mỗi m2           3906 non-null   float64\n",
      " 8   Diện tích            3906 non-null   float64\n",
      " 9   Giấy tờ pháp lý      3906 non-null   object \n",
      " 10  Số phòng vệ sinh     3906 non-null   object \n",
      " 11  Tình trạng nội thất  3906 non-null   object \n",
      " 12  Số tầng              3906 non-null   int64  \n",
      " 13  Đường/Phố            3904 non-null   object \n",
      " 14  Phường/Xã/Thị trấn   3906 non-null   object \n",
      " 15  Quận/Huyện           3906 non-null   object \n",
      " 16  Thành phố            3906 non-null   object \n",
      "dtypes: float64(3), int64(1), object(13)\n",
      "memory usage: 518.9+ KB\n"
     ]
    }
   ],
   "source": [
    "df1.info()"
   ]
  },
  {
   "cell_type": "code",
   "execution_count": 4,
   "id": "06f9b0d0",
   "metadata": {},
   "outputs": [
    {
     "name": "stdout",
     "output_type": "stream",
     "text": [
      "<class 'pandas.core.frame.DataFrame'>\n",
      "RangeIndex: 3923 entries, 0 to 3922\n",
      "Data columns (total 17 columns):\n",
      " #   Column               Non-Null Count  Dtype  \n",
      "---  ------               --------------  -----  \n",
      " 0   URL                  3923 non-null   object \n",
      " 1   Người bán            3923 non-null   object \n",
      " 2   Loại người bán       3923 non-null   object \n",
      " 3   Số phòng ngủ         3923 non-null   object \n",
      " 4   Hướng                3923 non-null   object \n",
      " 5   Kiểu nhà             3923 non-null   object \n",
      " 6   Giá                  3923 non-null   float64\n",
      " 7   Giá mỗi m2           3923 non-null   float64\n",
      " 8   Diện tích            3923 non-null   float64\n",
      " 9   Giấy tờ pháp lý      3923 non-null   object \n",
      " 10  Số phòng vệ sinh     3923 non-null   object \n",
      " 11  Tình trạng nội thất  3923 non-null   object \n",
      " 12  Số tầng              3923 non-null   int64  \n",
      " 13  Đường/Phố            3922 non-null   object \n",
      " 14  Phường/Xã/Thị trấn   3923 non-null   object \n",
      " 15  Quận/Huyện           3923 non-null   object \n",
      " 16  Thành phố            3923 non-null   object \n",
      "dtypes: float64(3), int64(1), object(13)\n",
      "memory usage: 521.2+ KB\n"
     ]
    }
   ],
   "source": [
    "df2.info()"
   ]
  },
  {
   "cell_type": "code",
   "execution_count": 5,
   "id": "09082055",
   "metadata": {},
   "outputs": [
    {
     "name": "stdout",
     "output_type": "stream",
     "text": [
      "Dữ liệu đã được nối và lưu vào file thong_tin_bds_thang_6_1_400.csv\n"
     ]
    }
   ],
   "source": [
    "# Nối dữ liệu\n",
    "merged_df = pd.concat([df1, df2], ignore_index=True)\n",
    "\n",
    "# Lưu vào file mới\n",
    "merged_df.to_csv('../Data_Cleaned/thong_tin_bds_thang_6_1_400_cleaned.csv', index=False, encoding='utf-8-sig')\n",
    "\n",
    "print(\"Dữ liệu đã được nối và lưu vào file thong_tin_bds_thang_6_1_400.csv\")"
   ]
  }
 ],
 "metadata": {
  "kernelspec": {
   "display_name": "Python 3",
   "language": "python",
   "name": "python3"
  },
  "language_info": {
   "codemirror_mode": {
    "name": "ipython",
    "version": 3
   },
   "file_extension": ".py",
   "mimetype": "text/x-python",
   "name": "python",
   "nbconvert_exporter": "python",
   "pygments_lexer": "ipython3",
   "version": "3.13.1"
  }
 },
 "nbformat": 4,
 "nbformat_minor": 5
}
