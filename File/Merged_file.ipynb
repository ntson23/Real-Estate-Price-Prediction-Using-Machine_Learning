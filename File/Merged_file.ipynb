{
 "cells": [
  {
   "cell_type": "code",
   "execution_count": 1,
   "id": "2453cd77",
   "metadata": {},
   "outputs": [],
   "source": [
    "import pandas as pd\n",
    "import numpy as np"
   ]
  },
  {
   "cell_type": "code",
   "execution_count": 2,
   "id": "d657a4d7",
   "metadata": {},
   "outputs": [],
   "source": [
    "df1 = pd.read_csv('../Detail/done_thong_tin_bds_thang_6_1_200.csv')\n",
    "df2 = pd.read_csv('../Detail/done_thong_tin_bds_thang_6_201_300.csv')"
   ]
  },
  {
   "cell_type": "code",
   "execution_count": 3,
   "id": "7f2ca238",
   "metadata": {},
   "outputs": [
    {
     "name": "stdout",
     "output_type": "stream",
     "text": [
      "<class 'pandas.core.frame.DataFrame'>\n",
      "RangeIndex: 3910 entries, 0 to 3909\n",
      "Data columns (total 14 columns):\n",
      " #   Column               Non-Null Count  Dtype \n",
      "---  ------               --------------  ----- \n",
      " 0   URL                  3910 non-null   object\n",
      " 1   Người bán            3910 non-null   object\n",
      " 2   Loại người bán       3910 non-null   object\n",
      " 3   Số phòng ngủ         3910 non-null   object\n",
      " 4   Hướng                3910 non-null   object\n",
      " 5   Kiểu nhà             3910 non-null   object\n",
      " 6   Giá                  3910 non-null   object\n",
      " 7   Giá mỗi m2           3910 non-null   object\n",
      " 8   Diện tích            3910 non-null   object\n",
      " 9   Địa chỉ              3910 non-null   object\n",
      " 10  Giấy tờ pháp lý      3910 non-null   object\n",
      " 11  Số phòng vệ sinh     3910 non-null   object\n",
      " 12  Tình trạng nội thất  3910 non-null   object\n",
      " 13  Số tầng              3910 non-null   object\n",
      "dtypes: object(14)\n",
      "memory usage: 427.8+ KB\n"
     ]
    }
   ],
   "source": [
    "df1.info()"
   ]
  },
  {
   "cell_type": "code",
   "execution_count": 4,
   "id": "06f9b0d0",
   "metadata": {},
   "outputs": [
    {
     "name": "stdout",
     "output_type": "stream",
     "text": [
      "<class 'pandas.core.frame.DataFrame'>\n",
      "RangeIndex: 1969 entries, 0 to 1968\n",
      "Data columns (total 14 columns):\n",
      " #   Column               Non-Null Count  Dtype \n",
      "---  ------               --------------  ----- \n",
      " 0   URL                  1969 non-null   object\n",
      " 1   Người bán            1969 non-null   object\n",
      " 2   Loại người bán       1969 non-null   object\n",
      " 3   Số phòng ngủ         1969 non-null   object\n",
      " 4   Hướng                1969 non-null   object\n",
      " 5   Kiểu nhà             1969 non-null   object\n",
      " 6   Giá                  1969 non-null   object\n",
      " 7   Giá mỗi m2           1969 non-null   object\n",
      " 8   Diện tích            1969 non-null   object\n",
      " 9   Địa chỉ              1969 non-null   object\n",
      " 10  Giấy tờ pháp lý      1969 non-null   object\n",
      " 11  Số phòng vệ sinh     1969 non-null   object\n",
      " 12  Tình trạng nội thất  1969 non-null   object\n",
      " 13  Số tầng              1969 non-null   object\n",
      "dtypes: object(14)\n",
      "memory usage: 215.5+ KB\n"
     ]
    }
   ],
   "source": [
    "df2.info()"
   ]
  },
  {
   "cell_type": "code",
   "execution_count": 5,
   "id": "09082055",
   "metadata": {},
   "outputs": [
    {
     "name": "stdout",
     "output_type": "stream",
     "text": [
      "Dữ liệu đã được nối và lưu vào file thong_tin_bds_thang_6_1_200.csv\n"
     ]
    }
   ],
   "source": [
    "# Nối dữ liệu\n",
    "merged_df = pd.concat([df1, df2], ignore_index=True)\n",
    "\n",
    "# Lưu vào file mới\n",
    "merged_df.to_csv('../Final_data/done_thong_tin_bds_thang_6_1_300.csv', index=False, encoding='utf-8-sig')\n",
    "\n",
    "print(\"Dữ liệu đã được nối và lưu vào file thong_tin_bds_thang_6_1_200.csv\")"
   ]
  }
 ],
 "metadata": {
  "kernelspec": {
   "display_name": "Python 3",
   "language": "python",
   "name": "python3"
  },
  "language_info": {
   "codemirror_mode": {
    "name": "ipython",
    "version": 3
   },
   "file_extension": ".py",
   "mimetype": "text/x-python",
   "name": "python",
   "nbconvert_exporter": "python",
   "pygments_lexer": "ipython3",
   "version": "3.13.1"
  }
 },
 "nbformat": 4,
 "nbformat_minor": 5
}
