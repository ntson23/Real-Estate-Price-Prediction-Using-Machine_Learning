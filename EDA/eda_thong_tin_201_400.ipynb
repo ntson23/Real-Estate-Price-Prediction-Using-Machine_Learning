{
 "cells": [
  {
   "cell_type": "code",
   "execution_count": 54,
   "id": "8f61cd45",
   "metadata": {},
   "outputs": [],
   "source": [
    "import pandas as pd\n",
    "import numpy as np\n",
    "from matplotlib import pyplot as plt\n",
    "import seaborn as sns"
   ]
  },
  {
   "cell_type": "code",
   "execution_count": 55,
   "id": "766071dd",
   "metadata": {},
   "outputs": [],
   "source": [
    "import re"
   ]
  },
  {
   "cell_type": "code",
   "execution_count": 56,
   "id": "f1a0c4f9",
   "metadata": {},
   "outputs": [],
   "source": [
    "df = pd.read_csv('../Detail/done_thong_tin_bds_thang_6_201_400.csv')"
   ]
  },
  {
   "cell_type": "code",
   "execution_count": 57,
   "id": "62100289",
   "metadata": {},
   "outputs": [
    {
     "name": "stdout",
     "output_type": "stream",
     "text": [
      "<class 'pandas.core.frame.DataFrame'>\n",
      "RangeIndex: 3931 entries, 0 to 3930\n",
      "Data columns (total 14 columns):\n",
      " #   Column               Non-Null Count  Dtype \n",
      "---  ------               --------------  ----- \n",
      " 0   URL                  3931 non-null   object\n",
      " 1   Người bán            3931 non-null   object\n",
      " 2   Loại người bán       3931 non-null   object\n",
      " 3   Số phòng ngủ         3931 non-null   object\n",
      " 4   Hướng                3931 non-null   object\n",
      " 5   Kiểu nhà             3931 non-null   object\n",
      " 6   Giá                  3931 non-null   object\n",
      " 7   Giá mỗi m2           3931 non-null   object\n",
      " 8   Diện tích            3931 non-null   object\n",
      " 9   Địa chỉ              3931 non-null   object\n",
      " 10  Giấy tờ pháp lý      3931 non-null   object\n",
      " 11  Số phòng vệ sinh     3931 non-null   object\n",
      " 12  Tình trạng nội thất  3931 non-null   object\n",
      " 13  Số tầng              3931 non-null   object\n",
      "dtypes: object(14)\n",
      "memory usage: 430.1+ KB\n"
     ]
    }
   ],
   "source": [
    "df.info()"
   ]
  },
  {
   "cell_type": "code",
   "execution_count": 58,
   "id": "886b7cd0",
   "metadata": {},
   "outputs": [
    {
     "data": {
      "text/html": [
       "<div>\n",
       "<style scoped>\n",
       "    .dataframe tbody tr th:only-of-type {\n",
       "        vertical-align: middle;\n",
       "    }\n",
       "\n",
       "    .dataframe tbody tr th {\n",
       "        vertical-align: top;\n",
       "    }\n",
       "\n",
       "    .dataframe thead th {\n",
       "        text-align: right;\n",
       "    }\n",
       "</style>\n",
       "<table border=\"1\" class=\"dataframe\">\n",
       "  <thead>\n",
       "    <tr style=\"text-align: right;\">\n",
       "      <th></th>\n",
       "      <th>URL</th>\n",
       "      <th>Người bán</th>\n",
       "      <th>Loại người bán</th>\n",
       "      <th>Số phòng ngủ</th>\n",
       "      <th>Hướng</th>\n",
       "      <th>Kiểu nhà</th>\n",
       "      <th>Giá</th>\n",
       "      <th>Giá mỗi m2</th>\n",
       "      <th>Diện tích</th>\n",
       "      <th>Địa chỉ</th>\n",
       "      <th>Giấy tờ pháp lý</th>\n",
       "      <th>Số phòng vệ sinh</th>\n",
       "      <th>Tình trạng nội thất</th>\n",
       "      <th>Số tầng</th>\n",
       "    </tr>\n",
       "  </thead>\n",
       "  <tbody>\n",
       "    <tr>\n",
       "      <th>3926</th>\n",
       "      <td>https://www.nhatot.com/mua-ban-nha-dat-quan-ha...</td>\n",
       "      <td>Phan Hùng</td>\n",
       "      <td>Môi Giới</td>\n",
       "      <td>4 PN</td>\n",
       "      <td>Không rõ</td>\n",
       "      <td>Nhà ngõ, hẻm</td>\n",
       "      <td>4,65 tỷ</td>\n",
       "      <td>186 triệu/m²</td>\n",
       "      <td>25 m²</td>\n",
       "      <td>Ngõ 159 Phố Hồng Mai, Phường Quỳnh Lôi, Quận H...</td>\n",
       "      <td>Đã có sổ</td>\n",
       "      <td>Không rõ</td>\n",
       "      <td>Nội thất đầy đủ</td>\n",
       "      <td>6</td>\n",
       "    </tr>\n",
       "    <tr>\n",
       "      <th>3927</th>\n",
       "      <td>https://www.nhatot.com/mua-ban-dat-huyen-soc-s...</td>\n",
       "      <td>Mạnh</td>\n",
       "      <td>Cá nhân</td>\n",
       "      <td>Không rõ</td>\n",
       "      <td>Không rõ</td>\n",
       "      <td>Đất thổ cư</td>\n",
       "      <td>2,52 tỷ</td>\n",
       "      <td>25,20 triệu/m²</td>\n",
       "      <td>100 m²</td>\n",
       "      <td>Phú Hạ, Xã Minh Phú, Huyện Sóc Sơn, Hà Nội</td>\n",
       "      <td>Đã có sổ</td>\n",
       "      <td>Không rõ</td>\n",
       "      <td>Không rõ</td>\n",
       "      <td>Không rõ</td>\n",
       "    </tr>\n",
       "    <tr>\n",
       "      <th>3928</th>\n",
       "      <td>https://www.nhatot.com/mua-ban-nha-dat-quan-ho...</td>\n",
       "      <td>Huê Nguyễn</td>\n",
       "      <td>Môi Giới</td>\n",
       "      <td>4 PN</td>\n",
       "      <td>Không rõ</td>\n",
       "      <td>Nhà ngõ, hẻm</td>\n",
       "      <td>8,65 tỷ</td>\n",
       "      <td>201,16 triệu/m²</td>\n",
       "      <td>43 m²</td>\n",
       "      <td>Đường Kim Giang, Phường Thanh Trì, Quận Hoàng ...</td>\n",
       "      <td>Đã có sổ</td>\n",
       "      <td>Không rõ</td>\n",
       "      <td>Không rõ</td>\n",
       "      <td>4</td>\n",
       "    </tr>\n",
       "    <tr>\n",
       "      <th>3929</th>\n",
       "      <td>https://www.nhatot.com/mua-ban-nha-dat-quan-th...</td>\n",
       "      <td>Vũ Minh Quân</td>\n",
       "      <td>Môi Giới</td>\n",
       "      <td>4 PN</td>\n",
       "      <td>Không rõ</td>\n",
       "      <td>Nhà ngõ, hẻm</td>\n",
       "      <td>8 tỷ</td>\n",
       "      <td>195,12 triệu/m²</td>\n",
       "      <td>41 m²</td>\n",
       "      <td>Phố Vương Thừa Vũ, Phường Khương Trung, Quận T...</td>\n",
       "      <td>Đã có sổ</td>\n",
       "      <td>3 phòng</td>\n",
       "      <td>Nội thất đầy đủ</td>\n",
       "      <td>4</td>\n",
       "    </tr>\n",
       "    <tr>\n",
       "      <th>3930</th>\n",
       "      <td>https://www.nhatot.com/mua-ban-nha-dat-quan-do...</td>\n",
       "      <td>Tên chưa cung cấp</td>\n",
       "      <td>Môi Giới</td>\n",
       "      <td>4 PN</td>\n",
       "      <td>Không rõ</td>\n",
       "      <td>Nhà ngõ, hẻm</td>\n",
       "      <td>13,6 tỷ</td>\n",
       "      <td>323,81 triệu/m²</td>\n",
       "      <td>42 m²</td>\n",
       "      <td>Phố Tây Sơn, Phường Quang Trung, Quận Đống Đa,...</td>\n",
       "      <td>Đã có sổ</td>\n",
       "      <td>5 phòng</td>\n",
       "      <td>Không rõ</td>\n",
       "      <td>Không rõ</td>\n",
       "    </tr>\n",
       "  </tbody>\n",
       "</table>\n",
       "</div>"
      ],
      "text/plain": [
       "                                                    URL          Người bán  \\\n",
       "3926  https://www.nhatot.com/mua-ban-nha-dat-quan-ha...          Phan Hùng   \n",
       "3927  https://www.nhatot.com/mua-ban-dat-huyen-soc-s...               Mạnh   \n",
       "3928  https://www.nhatot.com/mua-ban-nha-dat-quan-ho...         Huê Nguyễn   \n",
       "3929  https://www.nhatot.com/mua-ban-nha-dat-quan-th...       Vũ Minh Quân   \n",
       "3930  https://www.nhatot.com/mua-ban-nha-dat-quan-do...  Tên chưa cung cấp   \n",
       "\n",
       "     Loại người bán Số phòng ngủ     Hướng      Kiểu nhà      Giá  \\\n",
       "3926       Môi Giới         4 PN  Không rõ  Nhà ngõ, hẻm  4,65 tỷ   \n",
       "3927        Cá nhân     Không rõ  Không rõ    Đất thổ cư  2,52 tỷ   \n",
       "3928       Môi Giới         4 PN  Không rõ  Nhà ngõ, hẻm  8,65 tỷ   \n",
       "3929       Môi Giới         4 PN  Không rõ  Nhà ngõ, hẻm     8 tỷ   \n",
       "3930       Môi Giới         4 PN  Không rõ  Nhà ngõ, hẻm  13,6 tỷ   \n",
       "\n",
       "           Giá mỗi m2 Diện tích  \\\n",
       "3926     186 triệu/m²     25 m²   \n",
       "3927   25,20 triệu/m²    100 m²   \n",
       "3928  201,16 triệu/m²     43 m²   \n",
       "3929  195,12 triệu/m²     41 m²   \n",
       "3930  323,81 triệu/m²     42 m²   \n",
       "\n",
       "                                                Địa chỉ Giấy tờ pháp lý  \\\n",
       "3926  Ngõ 159 Phố Hồng Mai, Phường Quỳnh Lôi, Quận H...        Đã có sổ   \n",
       "3927         Phú Hạ, Xã Minh Phú, Huyện Sóc Sơn, Hà Nội        Đã có sổ   \n",
       "3928  Đường Kim Giang, Phường Thanh Trì, Quận Hoàng ...        Đã có sổ   \n",
       "3929  Phố Vương Thừa Vũ, Phường Khương Trung, Quận T...        Đã có sổ   \n",
       "3930  Phố Tây Sơn, Phường Quang Trung, Quận Đống Đa,...        Đã có sổ   \n",
       "\n",
       "     Số phòng vệ sinh Tình trạng nội thất   Số tầng  \n",
       "3926         Không rõ     Nội thất đầy đủ         6  \n",
       "3927         Không rõ            Không rõ  Không rõ  \n",
       "3928         Không rõ            Không rõ         4  \n",
       "3929          3 phòng     Nội thất đầy đủ         4  \n",
       "3930          5 phòng            Không rõ  Không rõ  "
      ]
     },
     "execution_count": 58,
     "metadata": {},
     "output_type": "execute_result"
    }
   ],
   "source": [
    "df.tail(5)"
   ]
  },
  {
   "cell_type": "code",
   "execution_count": 59,
   "id": "ec7ee11e",
   "metadata": {},
   "outputs": [
    {
     "data": {
      "text/plain": [
       "array(['4 PN', '1 PN', '3 PN', '5 PN', '2 PN', 'Không rõ', '7 PN',\n",
       "       'nhiều hơn 10 PN', '6 PN', '9 PN', '8 PN', '10 PN',\n",
       "       '4 PN • Nhà ngõ, hẻm'], dtype=object)"
      ]
     },
     "execution_count": 59,
     "metadata": {},
     "output_type": "execute_result"
    }
   ],
   "source": [
    "df['Số phòng ngủ'].unique()"
   ]
  },
  {
   "cell_type": "code",
   "execution_count": 60,
   "id": "73bbc1e3",
   "metadata": {},
   "outputs": [],
   "source": [
    "df['Số phòng ngủ'] = df['Số phòng ngủ'].str.replace('nhiều hơn 10', '10+').str.strip()"
   ]
  },
  {
   "cell_type": "code",
   "execution_count": 61,
   "id": "8e1d8c94",
   "metadata": {},
   "outputs": [],
   "source": [
    "df['Số phòng ngủ'] = df['Số phòng ngủ'].str.replace('PN', ' ').str.strip()"
   ]
  },
  {
   "cell_type": "code",
   "execution_count": 62,
   "id": "93369b74",
   "metadata": {},
   "outputs": [
    {
     "data": {
      "text/plain": [
       "array(['Không rõ', '1 phòng', '4 phòng', '2 phòng', 'Nhiều hơn 6 phòng',\n",
       "       '3 phòng', '5 phòng', '6 phòng', '3', '5', '4', '6+', '1', '2'],\n",
       "      dtype=object)"
      ]
     },
     "execution_count": 62,
     "metadata": {},
     "output_type": "execute_result"
    }
   ],
   "source": [
    "df['Số phòng vệ sinh'].unique()"
   ]
  },
  {
   "cell_type": "code",
   "execution_count": 63,
   "id": "e5d22437",
   "metadata": {},
   "outputs": [],
   "source": [
    "df['Số phòng vệ sinh'] = df['Số phòng vệ sinh'].str.replace('Nhiều hơn 6', '6+').str.strip()\n",
    "df['Số phòng vệ sinh'] = df['Số phòng vệ sinh'].str.replace('phòng', ' ').str.strip()"
   ]
  },
  {
   "cell_type": "code",
   "execution_count": 64,
   "id": "934fe68f",
   "metadata": {},
   "outputs": [],
   "source": [
    "def convert_price(value):\n",
    "    if pd.isna(value):\n",
    "        return None\n",
    "    value = str(value).strip()\n",
    "\n",
    "    value = value.replace(\",\", \".\")\n",
    "\n",
    "    if \"tỷ\" in value:\n",
    "        num = float(value.replace(\"tỷ/m²\", \"\").replace(\"tỷ\", \"\").strip())\n",
    "        return num * 1000  # đổi 1 tỷ -> 1000 triệu\n",
    "    elif \"triệu\" in value:\n",
    "        num = float(value.replace(\"triệu/m²\", \"\").replace(\"triệu\", \"\").strip())\n",
    "        return num\n",
    "    elif \"đ/m²\" in value:\n",
    "        num = float(value.replace(\"đ/m²\", \"\").replace(\"đ\", \"\").strip())\n",
    "        return num / 1000\n",
    "    elif \"Khôngrõ\" in value:\n",
    "        return 0\n",
    "    elif \"Không rõ\" in value:\n",
    "        return 0\n",
    "    else:\n",
    "        return float(value)  # nếu không rõ đơn vị, giả định là triệu\n"
   ]
  },
  {
   "cell_type": "code",
   "execution_count": 65,
   "id": "75c7fc9c",
   "metadata": {},
   "outputs": [],
   "source": [
    "df['Giá mỗi m2'] = df['Giá mỗi m2'].apply(convert_price)"
   ]
  },
  {
   "cell_type": "code",
   "execution_count": 66,
   "id": "5d3ebcc4",
   "metadata": {},
   "outputs": [],
   "source": [
    "df['Giá'] = df['Giá'].apply(convert_price)"
   ]
  },
  {
   "cell_type": "code",
   "execution_count": 67,
   "id": "01f78fa3",
   "metadata": {},
   "outputs": [],
   "source": [
    "df['Diện tích'] = df['Diện tích'].str.replace('m²', '').str.replace(',', '.').str.replace('Không rõ', '0').astype(float)"
   ]
  },
  {
   "cell_type": "code",
   "execution_count": 68,
   "id": "7bf08b54",
   "metadata": {},
   "outputs": [],
   "source": [
    "df['Số tầng'] = df['Số tầng'].str.replace('Không rõ', '0').astype(int)"
   ]
  },
  {
   "cell_type": "code",
   "execution_count": 69,
   "id": "697f2e02",
   "metadata": {},
   "outputs": [],
   "source": [
    "def split_address(address):\n",
    "    result = {\n",
    "        'Đường/Phố': \"Không rõ\",\n",
    "        'Phường/Xã/Thị trấn': \"Không rõ\",\n",
    "        'Quận/Huyện': \"Không rõ\",\n",
    "        'Thành phố': \"Không rõ\"\n",
    "    }\n",
    "\n",
    "    parts = [p.strip() for p in address.split(',')]\n",
    "    \n",
    "    for p in parts:\n",
    "        if re.search(r'Phường|Xã|Thị trấn', p):\n",
    "            result['Phường/Xã/Thị trấn'] = p\n",
    "        elif re.search(r'Quận|Huyện', p):\n",
    "            result['Quận/Huyện'] = p\n",
    "        elif re.search(r'Hà Nội|Hồ Chí Minh|TP', p):\n",
    "            result['Thành phố'] = p\n",
    "        else:\n",
    "            result['Đường/Phố'] = p\n",
    "\n",
    "    return pd.Series(result)\n",
    "\n",
    "# Giả sử df là DataFrame của bạn\n",
    "df_split = df['Địa chỉ'].apply(split_address)\n",
    "df = df.join(df_split)"
   ]
  },
  {
   "cell_type": "code",
   "execution_count": 70,
   "id": "e95d7796",
   "metadata": {},
   "outputs": [],
   "source": [
    "df = df.drop(columns=['Địa chỉ'])"
   ]
  },
  {
   "cell_type": "markdown",
   "id": "6f862103",
   "metadata": {},
   "source": [
    "EDA DỮ LIỆU"
   ]
  },
  {
   "cell_type": "code",
   "execution_count": 71,
   "id": "49d2ad78",
   "metadata": {},
   "outputs": [
    {
     "data": {
      "text/html": [
       "<div>\n",
       "<style scoped>\n",
       "    .dataframe tbody tr th:only-of-type {\n",
       "        vertical-align: middle;\n",
       "    }\n",
       "\n",
       "    .dataframe tbody tr th {\n",
       "        vertical-align: top;\n",
       "    }\n",
       "\n",
       "    .dataframe thead th {\n",
       "        text-align: right;\n",
       "    }\n",
       "</style>\n",
       "<table border=\"1\" class=\"dataframe\">\n",
       "  <thead>\n",
       "    <tr style=\"text-align: right;\">\n",
       "      <th></th>\n",
       "      <th>URL</th>\n",
       "      <th>Người bán</th>\n",
       "      <th>Loại người bán</th>\n",
       "      <th>Số phòng ngủ</th>\n",
       "      <th>Hướng</th>\n",
       "      <th>Kiểu nhà</th>\n",
       "      <th>Giá</th>\n",
       "      <th>Giá mỗi m2</th>\n",
       "      <th>Diện tích</th>\n",
       "      <th>Giấy tờ pháp lý</th>\n",
       "      <th>Số phòng vệ sinh</th>\n",
       "      <th>Tình trạng nội thất</th>\n",
       "      <th>Số tầng</th>\n",
       "      <th>Đường/Phố</th>\n",
       "      <th>Phường/Xã/Thị trấn</th>\n",
       "      <th>Quận/Huyện</th>\n",
       "      <th>Thành phố</th>\n",
       "    </tr>\n",
       "  </thead>\n",
       "  <tbody>\n",
       "  </tbody>\n",
       "</table>\n",
       "</div>"
      ],
      "text/plain": [
       "Empty DataFrame\n",
       "Columns: [URL, Người bán, Loại người bán, Số phòng ngủ, Hướng, Kiểu nhà, Giá, Giá mỗi m2, Diện tích, Giấy tờ pháp lý, Số phòng vệ sinh, Tình trạng nội thất, Số tầng, Đường/Phố, Phường/Xã/Thị trấn, Quận/Huyện, Thành phố]\n",
       "Index: []"
      ]
     },
     "execution_count": 71,
     "metadata": {},
     "output_type": "execute_result"
    }
   ],
   "source": [
    "df[df.duplicated()]"
   ]
  },
  {
   "cell_type": "code",
   "execution_count": 72,
   "id": "c052482e",
   "metadata": {},
   "outputs": [],
   "source": [
    "df = df[(df['Giá'] != 0) & (df['Diện tích'] != 0)]"
   ]
  },
  {
   "cell_type": "code",
   "execution_count": 74,
   "id": "face1006",
   "metadata": {},
   "outputs": [
    {
     "name": "stdout",
     "output_type": "stream",
     "text": [
      "Dữ liệu đã được nối và lưu vào file thong_tin_bds_thang_6_201_300_cleaned.csv\n"
     ]
    }
   ],
   "source": [
    "df.to_csv('../Data_Cleaned/thong_tin_bds_thang_6_201_400_cleaned.csv', index=False, encoding='utf-8-sig')\n",
    "\n",
    "print(\"Dữ liệu đã được nối và lưu vào file thong_tin_bds_thang_6_201_300_cleaned.csv\")"
   ]
  }
 ],
 "metadata": {
  "kernelspec": {
   "display_name": "Python 3",
   "language": "python",
   "name": "python3"
  },
  "language_info": {
   "codemirror_mode": {
    "name": "ipython",
    "version": 3
   },
   "file_extension": ".py",
   "mimetype": "text/x-python",
   "name": "python",
   "nbconvert_exporter": "python",
   "pygments_lexer": "ipython3",
   "version": "3.13.1"
  }
 },
 "nbformat": 4,
 "nbformat_minor": 5
}
