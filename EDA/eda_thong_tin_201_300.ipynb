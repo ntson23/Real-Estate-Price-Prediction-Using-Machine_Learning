{
 "cells": [
  {
   "cell_type": "code",
   "execution_count": 21,
   "id": "8f61cd45",
   "metadata": {},
   "outputs": [],
   "source": [
    "import pandas as pd\n",
    "import numpy as np\n",
    "from matplotlib import pyplot as plt\n",
    "import seaborn as sns"
   ]
  },
  {
   "cell_type": "code",
   "execution_count": 22,
   "id": "766071dd",
   "metadata": {},
   "outputs": [],
   "source": [
    "import re"
   ]
  },
  {
   "cell_type": "code",
   "execution_count": 23,
   "id": "f1a0c4f9",
   "metadata": {},
   "outputs": [],
   "source": [
    "df = pd.read_csv('../Detail/done_thong_tin_bds_thang_6_201_300.csv')"
   ]
  },
  {
   "cell_type": "code",
   "execution_count": 40,
   "id": "62100289",
   "metadata": {},
   "outputs": [
    {
     "name": "stdout",
     "output_type": "stream",
     "text": [
      "<class 'pandas.core.frame.DataFrame'>\n",
      "Index: 1964 entries, 0 to 1967\n",
      "Data columns (total 17 columns):\n",
      " #   Column               Non-Null Count  Dtype  \n",
      "---  ------               --------------  -----  \n",
      " 0   URL                  1964 non-null   object \n",
      " 1   Người bán            1964 non-null   object \n",
      " 2   Loại người bán       1964 non-null   object \n",
      " 3   Số phòng ngủ         1964 non-null   object \n",
      " 4   Hướng                1964 non-null   object \n",
      " 5   Kiểu nhà             1964 non-null   object \n",
      " 6   Giá                  1964 non-null   float64\n",
      " 7   Giá mỗi m2           1964 non-null   float64\n",
      " 8   Diện tích            1964 non-null   float64\n",
      " 9   Giấy tờ pháp lý      1964 non-null   object \n",
      " 10  Số phòng vệ sinh     1964 non-null   object \n",
      " 11  Tình trạng nội thất  1964 non-null   object \n",
      " 12  Số tầng              1964 non-null   int64  \n",
      " 13  Đường/Phố            1964 non-null   object \n",
      " 14  Phường/Xã/Thị trấn   1964 non-null   object \n",
      " 15  Quận/Huyện           1964 non-null   object \n",
      " 16  Thành phố            1964 non-null   object \n",
      "dtypes: float64(3), int64(1), object(13)\n",
      "memory usage: 276.2+ KB\n"
     ]
    }
   ],
   "source": [
    "df.info()"
   ]
  },
  {
   "cell_type": "code",
   "execution_count": 41,
   "id": "886b7cd0",
   "metadata": {},
   "outputs": [
    {
     "data": {
      "text/html": [
       "<div>\n",
       "<style scoped>\n",
       "    .dataframe tbody tr th:only-of-type {\n",
       "        vertical-align: middle;\n",
       "    }\n",
       "\n",
       "    .dataframe tbody tr th {\n",
       "        vertical-align: top;\n",
       "    }\n",
       "\n",
       "    .dataframe thead th {\n",
       "        text-align: right;\n",
       "    }\n",
       "</style>\n",
       "<table border=\"1\" class=\"dataframe\">\n",
       "  <thead>\n",
       "    <tr style=\"text-align: right;\">\n",
       "      <th></th>\n",
       "      <th>URL</th>\n",
       "      <th>Người bán</th>\n",
       "      <th>Loại người bán</th>\n",
       "      <th>Số phòng ngủ</th>\n",
       "      <th>Hướng</th>\n",
       "      <th>Kiểu nhà</th>\n",
       "      <th>Giá</th>\n",
       "      <th>Giá mỗi m2</th>\n",
       "      <th>Diện tích</th>\n",
       "      <th>Giấy tờ pháp lý</th>\n",
       "      <th>Số phòng vệ sinh</th>\n",
       "      <th>Tình trạng nội thất</th>\n",
       "      <th>Số tầng</th>\n",
       "      <th>Đường/Phố</th>\n",
       "      <th>Phường/Xã/Thị trấn</th>\n",
       "      <th>Quận/Huyện</th>\n",
       "      <th>Thành phố</th>\n",
       "    </tr>\n",
       "  </thead>\n",
       "  <tbody>\n",
       "    <tr>\n",
       "      <th>1963</th>\n",
       "      <td>https://www.nhatot.com/mua-ban-nha-dat-quan-ho...</td>\n",
       "      <td>Phan Hùng</td>\n",
       "      <td>Môi Giới</td>\n",
       "      <td>3</td>\n",
       "      <td>Không rõ</td>\n",
       "      <td>Nhà ngõ, hẻm</td>\n",
       "      <td>6.95</td>\n",
       "      <td>187.84</td>\n",
       "      <td>37.0</td>\n",
       "      <td>Đã có sổ</td>\n",
       "      <td>Không rõ</td>\n",
       "      <td>Không rõ</td>\n",
       "      <td>0</td>\n",
       "      <td>Đường Hoàng Mai</td>\n",
       "      <td>Phường Hoàng Văn Thụ</td>\n",
       "      <td>Quận Hoàng Mai</td>\n",
       "      <td>Hà Nội</td>\n",
       "    </tr>\n",
       "    <tr>\n",
       "      <th>1964</th>\n",
       "      <td>https://www.nhatot.com/mua-ban-nha-dat-quan-do...</td>\n",
       "      <td>Phạm bình</td>\n",
       "      <td>Cá nhân</td>\n",
       "      <td>7</td>\n",
       "      <td>Không rõ</td>\n",
       "      <td>Nhà ngõ, hẻm</td>\n",
       "      <td>12.30</td>\n",
       "      <td>361.76</td>\n",
       "      <td>34.0</td>\n",
       "      <td>Đã có sổ</td>\n",
       "      <td>6+</td>\n",
       "      <td>Nội thất đầy đủ</td>\n",
       "      <td>7</td>\n",
       "      <td>Ngõ Văn Hương</td>\n",
       "      <td>Phường Hàng Bột</td>\n",
       "      <td>Quận Đống Đa</td>\n",
       "      <td>Hà Nội</td>\n",
       "    </tr>\n",
       "    <tr>\n",
       "      <th>1965</th>\n",
       "      <td>https://www.nhatot.com/mua-ban-nha-dat-huyen-t...</td>\n",
       "      <td>Phan Hùng</td>\n",
       "      <td>Môi Giới</td>\n",
       "      <td>4</td>\n",
       "      <td>Không rõ</td>\n",
       "      <td>Nhà ngõ, hẻm</td>\n",
       "      <td>4.65</td>\n",
       "      <td>103.33</td>\n",
       "      <td>45.0</td>\n",
       "      <td>Đã có sổ</td>\n",
       "      <td>Không rõ</td>\n",
       "      <td>Nội thất đầy đủ</td>\n",
       "      <td>4</td>\n",
       "      <td>Thọ Am</td>\n",
       "      <td>Xã Đông Mỹ</td>\n",
       "      <td>Huyện Thanh Trì</td>\n",
       "      <td>Hà Nội</td>\n",
       "    </tr>\n",
       "    <tr>\n",
       "      <th>1966</th>\n",
       "      <td>https://www.nhatot.com/mua-ban-nha-dat-quan-ho...</td>\n",
       "      <td>Phan Hùng</td>\n",
       "      <td>Môi Giới</td>\n",
       "      <td>3</td>\n",
       "      <td>Không rõ</td>\n",
       "      <td>Nhà ngõ, hẻm</td>\n",
       "      <td>6.80</td>\n",
       "      <td>178.95</td>\n",
       "      <td>38.0</td>\n",
       "      <td>Đã có sổ</td>\n",
       "      <td>Không rõ</td>\n",
       "      <td>Nội thất cao cấp</td>\n",
       "      <td>4</td>\n",
       "      <td>Đường Giáp Bát</td>\n",
       "      <td>Phường Giáp Bát</td>\n",
       "      <td>Quận Hoàng Mai</td>\n",
       "      <td>Hà Nội</td>\n",
       "    </tr>\n",
       "    <tr>\n",
       "      <th>1967</th>\n",
       "      <td>https://www.nhatot.com/mua-ban-nha-dat-quan-ho...</td>\n",
       "      <td>Phan Hùng</td>\n",
       "      <td>Môi Giới</td>\n",
       "      <td>4</td>\n",
       "      <td>Không rõ</td>\n",
       "      <td>Nhà ngõ, hẻm</td>\n",
       "      <td>5.78</td>\n",
       "      <td>144.50</td>\n",
       "      <td>40.0</td>\n",
       "      <td>Đã có sổ</td>\n",
       "      <td>Không rõ</td>\n",
       "      <td>Không rõ</td>\n",
       "      <td>0</td>\n",
       "      <td>Phố Định Công</td>\n",
       "      <td>Phường Định Công</td>\n",
       "      <td>Quận Hoàng Mai</td>\n",
       "      <td>Hà Nội</td>\n",
       "    </tr>\n",
       "  </tbody>\n",
       "</table>\n",
       "</div>"
      ],
      "text/plain": [
       "                                                    URL  Người bán  \\\n",
       "1963  https://www.nhatot.com/mua-ban-nha-dat-quan-ho...  Phan Hùng   \n",
       "1964  https://www.nhatot.com/mua-ban-nha-dat-quan-do...  Phạm bình   \n",
       "1965  https://www.nhatot.com/mua-ban-nha-dat-huyen-t...  Phan Hùng   \n",
       "1966  https://www.nhatot.com/mua-ban-nha-dat-quan-ho...  Phan Hùng   \n",
       "1967  https://www.nhatot.com/mua-ban-nha-dat-quan-ho...  Phan Hùng   \n",
       "\n",
       "     Loại người bán Số phòng ngủ     Hướng      Kiểu nhà    Giá  Giá mỗi m2  \\\n",
       "1963       Môi Giới            3  Không rõ  Nhà ngõ, hẻm   6.95      187.84   \n",
       "1964        Cá nhân            7  Không rõ  Nhà ngõ, hẻm  12.30      361.76   \n",
       "1965       Môi Giới            4  Không rõ  Nhà ngõ, hẻm   4.65      103.33   \n",
       "1966       Môi Giới            3  Không rõ  Nhà ngõ, hẻm   6.80      178.95   \n",
       "1967       Môi Giới            4  Không rõ  Nhà ngõ, hẻm   5.78      144.50   \n",
       "\n",
       "      Diện tích Giấy tờ pháp lý Số phòng vệ sinh Tình trạng nội thất  Số tầng  \\\n",
       "1963       37.0        Đã có sổ         Không rõ            Không rõ        0   \n",
       "1964       34.0        Đã có sổ               6+     Nội thất đầy đủ        7   \n",
       "1965       45.0        Đã có sổ         Không rõ     Nội thất đầy đủ        4   \n",
       "1966       38.0        Đã có sổ         Không rõ    Nội thất cao cấp        4   \n",
       "1967       40.0        Đã có sổ         Không rõ            Không rõ        0   \n",
       "\n",
       "            Đường/Phố    Phường/Xã/Thị trấn       Quận/Huyện Thành phố  \n",
       "1963  Đường Hoàng Mai  Phường Hoàng Văn Thụ   Quận Hoàng Mai    Hà Nội  \n",
       "1964    Ngõ Văn Hương       Phường Hàng Bột     Quận Đống Đa    Hà Nội  \n",
       "1965           Thọ Am            Xã Đông Mỹ  Huyện Thanh Trì    Hà Nội  \n",
       "1966   Đường Giáp Bát       Phường Giáp Bát   Quận Hoàng Mai    Hà Nội  \n",
       "1967    Phố Định Công      Phường Định Công   Quận Hoàng Mai    Hà Nội  "
      ]
     },
     "execution_count": 41,
     "metadata": {},
     "output_type": "execute_result"
    }
   ],
   "source": [
    "df.tail(5)"
   ]
  },
  {
   "cell_type": "code",
   "execution_count": 26,
   "id": "ec7ee11e",
   "metadata": {},
   "outputs": [
    {
     "data": {
      "text/plain": [
       "array(['4 PN', '1 PN', '3 PN', '5 PN', '2 PN', 'Không rõ', '7 PN',\n",
       "       'nhiều hơn 10 PN', '6 PN', '9 PN', '8 PN', '10 PN'], dtype=object)"
      ]
     },
     "execution_count": 26,
     "metadata": {},
     "output_type": "execute_result"
    }
   ],
   "source": [
    "df['Số phòng ngủ'].unique()"
   ]
  },
  {
   "cell_type": "code",
   "execution_count": 27,
   "id": "73bbc1e3",
   "metadata": {},
   "outputs": [],
   "source": [
    "df['Số phòng ngủ'] = df['Số phòng ngủ'].str.replace('nhiều hơn 10', '10+').str.strip()"
   ]
  },
  {
   "cell_type": "code",
   "execution_count": 28,
   "id": "8e1d8c94",
   "metadata": {},
   "outputs": [],
   "source": [
    "df['Số phòng ngủ'] = df['Số phòng ngủ'].str.replace('PN', ' ').str.strip()"
   ]
  },
  {
   "cell_type": "code",
   "execution_count": 29,
   "id": "93369b74",
   "metadata": {},
   "outputs": [
    {
     "data": {
      "text/plain": [
       "array(['Không rõ', '1 phòng', '4 phòng', '2 phòng', 'Nhiều hơn 6 phòng',\n",
       "       '3 phòng', '5 phòng', '6 phòng', '3', '5', '4'], dtype=object)"
      ]
     },
     "execution_count": 29,
     "metadata": {},
     "output_type": "execute_result"
    }
   ],
   "source": [
    "df['Số phòng vệ sinh'].unique()"
   ]
  },
  {
   "cell_type": "code",
   "execution_count": 30,
   "id": "e5d22437",
   "metadata": {},
   "outputs": [],
   "source": [
    "df['Số phòng vệ sinh'] = df['Số phòng vệ sinh'].str.replace('Nhiều hơn 6', '6+').str.strip()\n",
    "df['Số phòng vệ sinh'] = df['Số phòng vệ sinh'].str.replace('phòng', ' ').str.strip()"
   ]
  },
  {
   "cell_type": "code",
   "execution_count": 31,
   "id": "46fed414",
   "metadata": {},
   "outputs": [],
   "source": [
    "df['Giá'] = df['Giá'].str.replace('tỷ', ' ').str.replace('triệu', '').str.replace(' ', '').str.replace(',','.').str.replace('Khôngrõ', '0').astype(float)"
   ]
  },
  {
   "cell_type": "code",
   "execution_count": 33,
   "id": "932aebd8",
   "metadata": {},
   "outputs": [],
   "source": [
    "df['Giá mỗi m2'] = df['Giá mỗi m2'].str.replace('tỷ/m²', '').str.replace('triệu/m²', '').str.replace('đ/m²', '').str.replace(',', '.').str.replace('Không rõ', '0').astype(float)"
   ]
  },
  {
   "cell_type": "code",
   "execution_count": 34,
   "id": "01f78fa3",
   "metadata": {},
   "outputs": [],
   "source": [
    "df['Diện tích'] = df['Diện tích'].str.replace('m²', '').str.replace(',', '.').str.replace('Không rõ', '0').astype(float)"
   ]
  },
  {
   "cell_type": "code",
   "execution_count": 35,
   "id": "7bf08b54",
   "metadata": {},
   "outputs": [],
   "source": [
    "df['Số tầng'] = df['Số tầng'].str.replace('Không rõ', '0').astype(int)"
   ]
  },
  {
   "cell_type": "code",
   "execution_count": 36,
   "id": "697f2e02",
   "metadata": {},
   "outputs": [],
   "source": [
    "def split_address(address):\n",
    "    result = {\n",
    "        'Đường/Phố': \"Không rõ\",\n",
    "        'Phường/Xã/Thị trấn': \"Không rõ\",\n",
    "        'Quận/Huyện': \"Không rõ\",\n",
    "        'Thành phố': \"Không rõ\"\n",
    "    }\n",
    "\n",
    "    parts = [p.strip() for p in address.split(',')]\n",
    "    \n",
    "    for p in parts:\n",
    "        if re.search(r'Phường|Xã|Thị trấn', p):\n",
    "            result['Phường/Xã/Thị trấn'] = p\n",
    "        elif re.search(r'Quận|Huyện', p):\n",
    "            result['Quận/Huyện'] = p\n",
    "        elif re.search(r'Hà Nội|Hồ Chí Minh|TP', p):\n",
    "            result['Thành phố'] = p\n",
    "        else:\n",
    "            result['Đường/Phố'] = p\n",
    "\n",
    "    return pd.Series(result)\n",
    "\n",
    "# Giả sử df là DataFrame của bạn\n",
    "df_split = df['Địa chỉ'].apply(split_address)\n",
    "df = df.join(df_split)"
   ]
  },
  {
   "cell_type": "code",
   "execution_count": 37,
   "id": "e95d7796",
   "metadata": {},
   "outputs": [],
   "source": [
    "df = df.drop(columns=['Địa chỉ'])"
   ]
  },
  {
   "cell_type": "markdown",
   "id": "6f862103",
   "metadata": {},
   "source": [
    "EDA DỮ LIỆU"
   ]
  },
  {
   "cell_type": "code",
   "execution_count": 38,
   "id": "49d2ad78",
   "metadata": {},
   "outputs": [
    {
     "data": {
      "text/html": [
       "<div>\n",
       "<style scoped>\n",
       "    .dataframe tbody tr th:only-of-type {\n",
       "        vertical-align: middle;\n",
       "    }\n",
       "\n",
       "    .dataframe tbody tr th {\n",
       "        vertical-align: top;\n",
       "    }\n",
       "\n",
       "    .dataframe thead th {\n",
       "        text-align: right;\n",
       "    }\n",
       "</style>\n",
       "<table border=\"1\" class=\"dataframe\">\n",
       "  <thead>\n",
       "    <tr style=\"text-align: right;\">\n",
       "      <th></th>\n",
       "      <th>URL</th>\n",
       "      <th>Người bán</th>\n",
       "      <th>Loại người bán</th>\n",
       "      <th>Số phòng ngủ</th>\n",
       "      <th>Hướng</th>\n",
       "      <th>Kiểu nhà</th>\n",
       "      <th>Giá</th>\n",
       "      <th>Giá mỗi m2</th>\n",
       "      <th>Diện tích</th>\n",
       "      <th>Giấy tờ pháp lý</th>\n",
       "      <th>Số phòng vệ sinh</th>\n",
       "      <th>Tình trạng nội thất</th>\n",
       "      <th>Số tầng</th>\n",
       "      <th>Đường/Phố</th>\n",
       "      <th>Phường/Xã/Thị trấn</th>\n",
       "      <th>Quận/Huyện</th>\n",
       "      <th>Thành phố</th>\n",
       "    </tr>\n",
       "  </thead>\n",
       "  <tbody>\n",
       "  </tbody>\n",
       "</table>\n",
       "</div>"
      ],
      "text/plain": [
       "Empty DataFrame\n",
       "Columns: [URL, Người bán, Loại người bán, Số phòng ngủ, Hướng, Kiểu nhà, Giá, Giá mỗi m2, Diện tích, Giấy tờ pháp lý, Số phòng vệ sinh, Tình trạng nội thất, Số tầng, Đường/Phố, Phường/Xã/Thị trấn, Quận/Huyện, Thành phố]\n",
       "Index: []"
      ]
     },
     "execution_count": 38,
     "metadata": {},
     "output_type": "execute_result"
    }
   ],
   "source": [
    "df[df.duplicated()]"
   ]
  },
  {
   "cell_type": "code",
   "execution_count": 39,
   "id": "c052482e",
   "metadata": {},
   "outputs": [],
   "source": [
    "df = df[(df['Giá'] != 0) & (df['Diện tích'] != 0)]"
   ]
  },
  {
   "cell_type": "code",
   "execution_count": 42,
   "id": "face1006",
   "metadata": {},
   "outputs": [
    {
     "name": "stdout",
     "output_type": "stream",
     "text": [
      "Dữ liệu đã được nối và lưu vào file thong_tin_bds_thang_6_201_300_cleaned.csv\n"
     ]
    }
   ],
   "source": [
    "df.to_csv('../Data_Cleaned/thong_tin_bds_thang_6_201_300_cleaned.csv', index=False, encoding='utf-8-sig')\n",
    "\n",
    "print(\"Dữ liệu đã được nối và lưu vào file thong_tin_bds_thang_6_201_300_cleaned.csv\")"
   ]
  }
 ],
 "metadata": {
  "kernelspec": {
   "display_name": "Python 3",
   "language": "python",
   "name": "python3"
  },
  "language_info": {
   "codemirror_mode": {
    "name": "ipython",
    "version": 3
   },
   "file_extension": ".py",
   "mimetype": "text/x-python",
   "name": "python",
   "nbconvert_exporter": "python",
   "pygments_lexer": "ipython3",
   "version": "3.13.1"
  }
 },
 "nbformat": 4,
 "nbformat_minor": 5
}
